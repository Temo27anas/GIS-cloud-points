{
 "cells": [
  {
   "cell_type": "code",
   "execution_count": 1,
   "metadata": {},
   "outputs": [
    {
     "name": "stderr",
     "output_type": "stream",
     "text": [
      "c:\\Users\\Anas\\anaconda3\\lib\\site-packages\\pandas\\core\\arrays\\masked.py:60: UserWarning: Pandas requires version '1.3.6' or newer of 'bottleneck' (version '1.3.5' currently installed).\n",
      "  from pandas.core import (\n"
     ]
    },
    {
     "name": "stdout",
     "output_type": "stream",
     "text": [
      "Jupyter environment detected. Enabling Open3D WebVisualizer.\n",
      "[Open3D INFO] WebRTC GUI backend enabled.\n",
      "[Open3D INFO] WebRTCWindowSystem: HTTP handshake server disabled.\n"
     ]
    }
   ],
   "source": [
    "#import libraries\n",
    "import numpy as np\n",
    "import matplotlib.pyplot as plt\n",
    "import pandas as pd\n",
    "\n",
    "import open3d as o3d\n",
    "import laspy \n",
    "\n",
    "import rasterio\n",
    "import alphashape as ash\n",
    "import geopandas as gpd\n",
    "import shapely as sh"
   ]
  },
  {
   "cell_type": "code",
   "execution_count": 13,
   "metadata": {},
   "outputs": [
    {
     "name": "stdout",
     "output_type": "stream",
     "text": [
      "[1 2 2 ... 2 2 2] length:  648433\n",
      "<ScaledArrayView([490204.878 490204.955 490205.028 ... 490354.475 490355.26  490354.873])> length:  648433\n",
      "PROJCS[\"NAD_1983_UTM_Zone_10N\",GEOGCS[\"GCS_North_American_1983\",DATUM[\"D_North_American_1983\",SPHEROID[\"GRS_1980\",6378137.0,298.257222101]],PRIMEM[\"Greenwich\",0.0],UNIT[\"Degree\",0.0174532925199433]],PROJECTION[\"Transverse_Mercator\"],PARAMETER[\"False_Easting\",500000.0],PARAMETER[\"False_Northing\",0.0],PARAMETER[\"Central_Meridian\",-123.0],PARAMETER[\"Scale_Factor\",0.9996],PARAMETER[\"Latitude_Of_Origin\",0.0],UNIT[\"Meter\",1.0],AUTHORITY[\"EPSG\",26910]]\n"
     ]
    }
   ],
   "source": [
    "#importing the dataset\n",
    "location =\"data/neighborhood.laz\"\n",
    "las = laspy.read(location)\n",
    "\n",
    "print(las.classification, \"length: \", len(las.classification))\n",
    "print(las.x, \"length: \", len(las.x))\n",
    "\n",
    "crs = las.vlrs[2]\n",
    "print(crs.string) # EPSG\"26910"
   ]
  },
  {
   "cell_type": "code",
   "execution_count": 20,
   "metadata": {},
   "outputs": [
    {
     "name": "stdout",
     "output_type": "stream",
     "text": [
      "[4.90276696e+05 5.45374936e+06 1.09171589e+02]\n"
     ]
    }
   ],
   "source": [
    "#mask\n",
    "pts_mask = las.classification == 6\n",
    "\n",
    "#extracting the points with applied mask\n",
    "xyz = np.vstack( (las.x[pts_mask], las.y[pts_mask], las.z[pts_mask]) ).transpose()\n",
    "\n",
    "#transforming the data to a o3d point cloud\n",
    "pcd_o3d = o3d.geometry.PointCloud()\n",
    "pcd_o3d.points = o3d.utility.Vector3dVector(xyz)\n",
    "\n",
    "pcd_center = pcd_o3d.get_center()\n",
    "pcd_o3d.translate(-pcd_center)\n",
    "print(pcd_center)\n",
    "\n",
    "#visualizing the point cloud\n",
    "o3d.visualization.draw_geometries([pcd_o3d])\n",
    "\n",
    "\n"
   ]
  }
 ],
 "metadata": {
  "kernelspec": {
   "display_name": "base",
   "language": "python",
   "name": "python3"
  },
  "language_info": {
   "codemirror_mode": {
    "name": "ipython",
    "version": 3
   },
   "file_extension": ".py",
   "mimetype": "text/x-python",
   "name": "python",
   "nbconvert_exporter": "python",
   "pygments_lexer": "ipython3",
   "version": "3.9.13"
  }
 },
 "nbformat": 4,
 "nbformat_minor": 2
}
